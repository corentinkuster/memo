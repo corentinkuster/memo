{
 "cells": [
  {
   "cell_type": "markdown",
   "id": "3d8dffad-f193-4939-ad96-8c7595900dc7",
   "metadata": {},
   "source": [
    "# TimeSeries forecasting template with sktime"
   ]
  },
  {
   "cell_type": "code",
   "execution_count": null,
   "id": "2527efb5-9189-4ea2-8ba4-a34136e5813a",
   "metadata": {},
   "outputs": [],
   "source": [
    "!pip install sktime\n",
    "!pip install holidays\n",
    "!pip install psycopg2\n",
    "!pip install sqlalchemy\n",
    "!pip install xgboost\n",
    "!pip install scikit-learn\n",
    "!pip install mlflow\n",
    "!pip install hyperopt"
   ]
  },
  {
   "cell_type": "code",
   "execution_count": null,
   "id": "62f950d1-3bcd-404a-a590-793ec28be3de",
   "metadata": {},
   "outputs": [],
   "source": [
    "import pandas as pd\n",
    "import numpy as np\n",
    "import sqlalchemy\n",
    "\n",
    "import os\n",
    "import requests\n",
    "import time\n",
    "import datetime\n",
    "import copy\n",
    "\n",
    "import plotly.io as pio\n",
    "import plotly.express as px\n",
    "import seaborn as sns\n",
    "import matplotlib.pyplot as plt\n",
    "import plotly.graph_objects as go\n",
    "from plotly.subplots import make_subplots\n",
    "\n",
    "%load_ext sql\n",
    "%sql $engine.url\n",
    "\n",
    "# Else graph won't render\n",
    "pio.renderers.default='jupyterlab'"
   ]
  },
  {
   "cell_type": "markdown",
   "id": "c21909ce-991f-43ef-866f-c8d00c95e6bf",
   "metadata": {
    "tags": []
   },
   "source": [
    "# Loading"
   ]
  },
  {
   "cell_type": "markdown",
   "id": "05d0ae1e-bb78-456c-945a-71b80be54ae9",
   "metadata": {},
   "source": [
    "## DB"
   ]
  },
  {
   "cell_type": "code",
   "execution_count": null,
   "id": "8a6bb8d1-0230-4614-b999-6dc844712f2b",
   "metadata": {},
   "outputs": [],
   "source": [
    "engine = sqlalchemy.create_engine(os.environ.get('DB'))"
   ]
  },
  {
   "cell_type": "code",
   "execution_count": null,
   "id": "b5f15a8f-1975-4348-ac25-519c71c72ec0",
   "metadata": {},
   "outputs": [],
   "source": [
    "sql = \"\"\"\n",
    "select data.*\n",
    "from\n",
    "data\n",
    "\"\"\""
   ]
  },
  {
   "cell_type": "code",
   "execution_count": null,
   "id": "f00fecb9-cc39-4800-936a-82005e437ca2",
   "metadata": {},
   "outputs": [],
   "source": [
    "df = pd.read_sql(sql, con=engine)\n",
    "df.head()"
   ]
  },
  {
   "cell_type": "markdown",
   "id": "fb46d3f8-af15-4a0b-90b5-69b7b048544d",
   "metadata": {},
   "source": [
    "## API"
   ]
  },
  {
   "cell_type": "code",
   "execution_count": null,
   "id": "ced16c45-6ce1-43fc-87bd-f8c2ec70c04d",
   "metadata": {},
   "outputs": [],
   "source": [
    "url = 'http://url/to/api'\n",
    "headers = {'Accept': 'application/json'}"
   ]
  },
  {
   "cell_type": "code",
   "execution_count": null,
   "id": "93bd6cc5-b5b4-4a0f-9664-07a7e934e5b0",
   "metadata": {},
   "outputs": [],
   "source": [
    "data = requests.get(url, headers=headers).json()\n",
    "df = pd.DataFrame.from_dict(data)"
   ]
  },
  {
   "cell_type": "markdown",
   "id": "52fe669a-8ea1-4190-9af7-68c23a500959",
   "metadata": {},
   "source": [
    "## File"
   ]
  },
  {
   "cell_type": "code",
   "execution_count": null,
   "id": "cc532030-0714-4f41-b8bd-d120d5e462b9",
   "metadata": {},
   "outputs": [],
   "source": [
    "df = pd.read_csv('data.csv')"
   ]
  },
  {
   "cell_type": "markdown",
   "id": "0cc6f214-a4af-4e41-8794-40e14589bc79",
   "metadata": {
    "tags": []
   },
   "source": [
    "# Clean Data"
   ]
  },
  {
   "cell_type": "markdown",
   "id": "d1dcd9dd-265c-46e5-b0ef-750b222aa159",
   "metadata": {},
   "source": [
    "## Smooth outliers"
   ]
  },
  {
   "cell_type": "code",
   "execution_count": null,
   "id": "4203ddb3-c1a3-4bfd-81a9-0d547762505d",
   "metadata": {},
   "outputs": [],
   "source": [
    "threshold = np.nanpercentile(df.y.values,99.999)\n",
    "df.loc[df.y >= threshold,'y'] = np.nan"
   ]
  },
  {
   "cell_type": "code",
   "execution_count": null,
   "id": "009ec16f-6dd1-4f67-91b9-ab737cb09ff9",
   "metadata": {},
   "outputs": [],
   "source": [
    "from sktime.transformations.series.outlier_detection import HampelFilter\n",
    "\n",
    "smoother = HampelFilter(window_length=10)\n",
    "df.y = smoother.fit_predict(df.y)"
   ]
  },
  {
   "cell_type": "markdown",
   "id": "c65b7be2-1058-41d0-b692-2317c906aae5",
   "metadata": {},
   "source": [
    "## Time series resampling"
   ]
  },
  {
   "cell_type": "markdown",
   "id": "cfedb589-bcbf-4946-aa89-6d1a743c8117",
   "metadata": {},
   "source": [
    "### upsample"
   ]
  },
  {
   "cell_type": "code",
   "execution_count": null,
   "id": "3e0376e1-ba70-4c6a-8441-a9ea45c17bcd",
   "metadata": {},
   "outputs": [],
   "source": [
    "df = df.set_index('time')\n",
    "df = df.resample('H').asfreq()"
   ]
  },
  {
   "cell_type": "markdown",
   "id": "df384016-9342-4874-8555-b2b0d3c181b4",
   "metadata": {},
   "source": [
    "### downsample"
   ]
  },
  {
   "cell_type": "code",
   "execution_count": null,
   "id": "1148d872-d42d-4dae-bd7a-9e4ce32e2747",
   "metadata": {},
   "outputs": [],
   "source": [
    "df = df.resample('H').mean() # or median()"
   ]
  },
  {
   "cell_type": "code",
   "execution_count": null,
   "id": "2ec1b4e3-a1a2-4da5-ad21-715672ce3f20",
   "metadata": {},
   "outputs": [],
   "source": [
    "df.index.freq = df.index.inferred_freq "
   ]
  },
  {
   "cell_type": "markdown",
   "id": "4a044c19-e9f4-468c-b044-607f5bc2bfd7",
   "metadata": {
    "tags": []
   },
   "source": [
    "# Feature Engineering"
   ]
  },
  {
   "cell_type": "markdown",
   "id": "5ab83d52-f493-498c-b4fc-d7a6f4bda81d",
   "metadata": {
    "tags": []
   },
   "source": [
    "## time"
   ]
  },
  {
   "cell_type": "code",
   "execution_count": null,
   "id": "999dfda7-bdde-43a4-b047-b7e340dafd85",
   "metadata": {},
   "outputs": [],
   "source": [
    "df['time'] = pd.to_datetime(df.time)\n",
    "df['dow'] = df.time.dt.dayofweek\n",
    "df['month'] = df.time.dt.month\n",
    "df['hour'] = df.time.dt.hour"
   ]
  },
  {
   "cell_type": "code",
   "execution_count": null,
   "id": "551517a7-fecc-4118-b40c-3e3cf09ed7dc",
   "metadata": {},
   "outputs": [],
   "source": [
    "def make_harmonic_features(value, period=24):\n",
    "    value *= 2 * np.pi / period \n",
    "    return [np.cos(value), np.sin(value)]\n",
    "\n",
    "df[['hour_cos','hour_sin']] = df[['hour']].apply(lambda x: make_harmonic_features(x.hour),result_type='expand',axis=1)"
   ]
  },
  {
   "cell_type": "markdown",
   "id": "c64e4857-7868-4dae-9037-e900a53bc522",
   "metadata": {},
   "source": [
    "## weekends & holidays"
   ]
  },
  {
   "cell_type": "code",
   "execution_count": null,
   "id": "a1bd851a-cfc5-4463-910e-fa3068fae74b",
   "metadata": {},
   "outputs": [],
   "source": [
    "import holidays\n",
    "\n",
    "nl_holidays = holidays.NL(years=[2022])"
   ]
  },
  {
   "cell_type": "code",
   "execution_count": null,
   "id": "6a14c810-0290-4df0-885d-c13829843d28",
   "metadata": {},
   "outputs": [],
   "source": [
    "df['holidays'] = df.dow.apply(lambda x: False if x < 5 else True)\n",
    "df['holidays'] = df[['time','holidays']].apply(lambda row: True if x['time'].date() in nl_holidays else row['holidays'],axis=1)"
   ]
  },
  {
   "cell_type": "markdown",
   "id": "eb1cbffe-b034-42d3-830e-181ac8fdbe35",
   "metadata": {
    "tags": []
   },
   "source": [
    "## merge exogenous"
   ]
  },
  {
   "cell_type": "markdown",
   "id": "7888c289-d2b8-456c-9754-8b233d271992",
   "metadata": {},
   "source": [
    "### exact time"
   ]
  },
  {
   "cell_type": "code",
   "execution_count": null,
   "id": "55eb89eb-c95f-408c-953a-40e5f5156ae8",
   "metadata": {},
   "outputs": [],
   "source": [
    "df = df.merge(exo_df,how='left',left_on='time',right_on='time')"
   ]
  },
  {
   "cell_type": "markdown",
   "id": "e7cb854f-b7da-45b1-a085-d2eb0c800cfb",
   "metadata": {},
   "source": [
    "### between time bracket"
   ]
  },
  {
   "cell_type": "code",
   "execution_count": null,
   "id": "529a1d12-79db-4b17-9e5f-5d0c251109c5",
   "metadata": {},
   "outputs": [],
   "source": [
    "import sqlite3\n",
    "\n",
    "#Make the db in memory\n",
    "conn = sqlite3.connect(':memory:')\n",
    "#write the tables\n",
    "df.to_sql('df', conn, index=False)\n",
    "exo_df.to_sql('exo_df', conn, index=False)\n",
    "\n",
    "qry = '''\n",
    "    select  \n",
    "        df.*,\n",
    "        exo_df.*\n",
    "    from\n",
    "        df left join exo_df on\n",
    "        time between exo_start_time and exo_end_time\n",
    "    '''\n",
    "df = pd.read_sql_query(qry, conn)"
   ]
  },
  {
   "cell_type": "markdown",
   "id": "db9cbcd1-65fe-463b-b753-77a44c279d8d",
   "metadata": {
    "tags": []
   },
   "source": [
    "## Fix dtypes"
   ]
  },
  {
   "cell_type": "code",
   "execution_count": null,
   "id": "ec84b661-1301-4397-bd75-1bb73c9f3558",
   "metadata": {},
   "outputs": [],
   "source": [
    "df.time = pd.to_datetime(df.time)\n",
    "df = pd.concat([df.select_dtypes([], ['object']),df.select_dtypes(['object']).apply(pd.Series.astype, dtype='category')], axis=1)\n",
    "df.bool = df.bool.astype(\"float32\")\n",
    "df.int = df.int.astype(\"int\")\n",
    "df.float = df.holidays.astype(\"float64\")\n",
    "df.cat = df.cat.astype(\"category\")"
   ]
  },
  {
   "cell_type": "markdown",
   "id": "0b72c1c3-5051-4ee4-ad2d-6d73fab4b35c",
   "metadata": {
    "tags": []
   },
   "source": [
    "# Analysis"
   ]
  },
  {
   "cell_type": "markdown",
   "id": "205be5c7-b128-4123-87ec-c51eb939f83c",
   "metadata": {},
   "source": [
    "## Seasonality"
   ]
  },
  {
   "cell_type": "code",
   "execution_count": null,
   "id": "55121450-6381-4ff4-ac54-2a2f1a740f51",
   "metadata": {},
   "outputs": [],
   "source": [
    "from statsmodels.tsa.seasonal import seasonal_decompose\n",
    "\n",
    "result = seasonal_decompose(df.y, model='additive')\n",
    "print(result.trend)\n",
    "print(result.seasonal)\n",
    "print(result.resid)\n",
    "print(result.observed)"
   ]
  },
  {
   "cell_type": "markdown",
   "id": "401acaf0-8461-4e79-8cb6-4d52bfd6c0d0",
   "metadata": {},
   "source": [
    "https://towardsdatascience.com/multi-seasonal-time-series-decomposition-using-mstl-in-python-136630e67530"
   ]
  },
  {
   "cell_type": "raw",
   "id": "91d808f3-575c-4161-b376-a5fb49b2551d",
   "metadata": {},
   "source": [
    "mstl = MSTL(timeseries[\"y\"], periods=(24, 24 * 7), stl_kwargs={\"seasonal_deg\": 0})\n",
    "res = mstl.fit() "
   ]
  },
  {
   "cell_type": "markdown",
   "id": "eefa457e-ea6e-4aaa-8737-f6db57e0344f",
   "metadata": {
    "tags": []
   },
   "source": [
    "## Correlations"
   ]
  },
  {
   "cell_type": "markdown",
   "id": "0fb6d5ce-d16a-40b3-a4f1-bcb443657480",
   "metadata": {
    "tags": []
   },
   "source": [
    "### Numerical"
   ]
  },
  {
   "cell_type": "code",
   "execution_count": null,
   "id": "33f5e2ba-26a9-4fa2-b20e-dd43a8b5f8dd",
   "metadata": {},
   "outputs": [],
   "source": [
    "corr_matrix =  df.select_dtypes(['float']).corr()\n",
    "sns.heatmap(corr_matrix,annot=True,annot_kws={\"fontsize\":6})"
   ]
  },
  {
   "cell_type": "markdown",
   "id": "20f7fb79-52b4-452c-a6dd-c62a4166e213",
   "metadata": {
    "tags": []
   },
   "source": [
    "### Categorical"
   ]
  },
  {
   "cell_type": "code",
   "execution_count": null,
   "id": "f0aac495-fd05-4022-b21f-e5b622ea19e2",
   "metadata": {},
   "outputs": [],
   "source": [
    "from scipy.stats import f_oneway"
   ]
  },
  {
   "cell_type": "code",
   "execution_count": null,
   "id": "a575d0f2-a411-437b-9655-0dfb69c73c78",
   "metadata": {},
   "outputs": [],
   "source": [
    "anova_data = {}\n",
    "for col in df.select_dtypes(include=[\"category\",\"boolean\"]).columns:\n",
    "    anova_data[col] = df[[col]+['y']].dropna().groupby(col).agg(list)['y'].values.tolist()"
   ]
  },
  {
   "cell_type": "code",
   "execution_count": null,
   "id": "05649776-7c7d-4e6f-b80b-a270f5bc9431",
   "metadata": {},
   "outputs": [],
   "source": [
    "fig, ax = plt.subplots(nrows=2, ncols=3, figsize=[15, 10], sharey=True)\n",
    "ax = ax.flatten()\n",
    "sns_blue = sns.color_palette(as_cmap=True)[0]\n",
    "\n",
    "for ix, col in enumerate(df.select_dtypes(include=[\"category\",\"boolean\"]).columns):\n",
    "    sns.boxplot(ax =ax[ix],x=col, y='y', data=df[[col]+['y']].dropna(), showfliers=False)\n",
    "    try:\n",
    "        _, anova = f_oneway(*anova_data[col])\n",
    "    except TypeError:\n",
    "        anova = 'nan'\n",
    "    ax[ix].set_title(col+' p:'+str(anova))\n",
    "\n",
    "fig.tight_layout()"
   ]
  },
  {
   "cell_type": "markdown",
   "id": "824286b8-af2f-44b5-8a94-0ce7c571c8e6",
   "metadata": {
    "tags": []
   },
   "source": [
    "# Prediction"
   ]
  },
  {
   "cell_type": "code",
   "execution_count": null,
   "id": "02263eb9-ab87-40cb-a02b-194b4367fe7f",
   "metadata": {},
   "outputs": [],
   "source": [
    "from sklearn.impute import SimpleImputer, KNNImputer\n",
    "from sklearn.preprocessing import OneHotEncoder, MinMaxScaler\n",
    "from sklearn.pipeline import Pipeline\n",
    "from sktime.transformations.hierarchical.aggregate import Aggregator\n",
    "from sktime.transformations.panel.compose import ColumnTransformer\n",
    "from sktime.transformations.series.adapt import TabularToSeriesAdaptor, PandasTransformAdaptor"
   ]
  },
  {
   "cell_type": "markdown",
   "id": "1372ea33-2e96-4594-9ce8-ed87fc4f386a",
   "metadata": {},
   "source": [
    "## Feature preparation: missing, scaling, one-hot"
   ]
  },
  {
   "cell_type": "code",
   "execution_count": null,
   "id": "8f5fd2b1-cce5-4e9c-a8d5-7888cd445eb1",
   "metadata": {},
   "outputs": [],
   "source": [
    "X,y = df[df.columns[~df.columns.isin([\"y\"])]], df[['y']]"
   ]
  },
  {
   "cell_type": "markdown",
   "id": "7860e1e8-96d0-4d1b-8be7-bbb672bea786",
   "metadata": {},
   "source": [
    "### X preprocessing"
   ]
  },
  {
   "cell_type": "code",
   "execution_count": null,
   "id": "8ba77a2b-4373-4376-93d8-46fef5a1e7b6",
   "metadata": {},
   "outputs": [],
   "source": [
    "categorical_pipeline = Pipeline(steps=[\n",
    "    ('impute', TabularToSeriesAdaptor(SimpleImputer(strategy='most_frequent',missing_values=np.nan)))\n",
    "    ('one-hot', TabularToSeriesAdaptor(OneHotEncoder(handle_unknown='ignore', sparse=False)))\n",
    "])"
   ]
  },
  {
   "cell_type": "code",
   "execution_count": null,
   "id": "471a6dde-0471-4edc-ad58-f28ac24e18d5",
   "metadata": {},
   "outputs": [],
   "source": [
    "numeric_pipeline = Pipeline(steps=[\n",
    "    ('impute', TabularToSeriesAdaptor(SimpleImputer(strategy='mean',missing_values=np.nan))),\n",
    "    ('scale', TabularToSeriesAdaptor(MinMaxScaler()))\n",
    "])"
   ]
  },
  {
   "cell_type": "code",
   "execution_count": null,
   "id": "ef32cc7b-635a-4b37-8449-e9d8738b5e7d",
   "metadata": {},
   "outputs": [],
   "source": [
    "X_preprocess = ColumnTransformer(transformers=[\n",
    "    ('boolean_impute', PandasTransformAdaptor(\"fillna\", kwargs={'value':-1}), X.select_dtypes(include='float32').columns.tolist()),\n",
    "    ('category', categorical_pipeline, X.select_dtypes(include='category').columns.tolist()),\n",
    "    ('numeric', numeric_pipeline, X.select_dtypes(exclude=['category','float32']).columns.tolist())\n",
    "])"
   ]
  },
  {
   "cell_type": "code",
   "execution_count": null,
   "id": "6ecacaee-6a3c-47f8-88d5-19e622940c80",
   "metadata": {},
   "outputs": [],
   "source": [
    "X_trans = X_processor.fit_transform(X)"
   ]
  },
  {
   "cell_type": "markdown",
   "id": "08042cd3-36e5-4ba1-b9ee-bcaab52c7cdc",
   "metadata": {},
   "source": [
    "### y preprocessing"
   ]
  },
  {
   "cell_type": "code",
   "execution_count": null,
   "id": "030a31dc-9223-4d06-bdd6-adace1a48746",
   "metadata": {},
   "outputs": [],
   "source": [
    "y_preprocess = SimpleImputer(strategy='mean',missing_values=np.nan) * PandasTransformAdaptor(\"replace\", kwargs={'to_replace':0, 'value':1})"
   ]
  },
  {
   "cell_type": "code",
   "execution_count": null,
   "id": "fe8691fd-39a6-48d1-a0fa-3db8b391fe73",
   "metadata": {},
   "outputs": [],
   "source": [
    "y_trans = y_transformer.fit_transform(y)"
   ]
  },
  {
   "cell_type": "markdown",
   "id": "6d9a0ab3-a292-49b0-927d-9b2223b19163",
   "metadata": {},
   "source": [
    "## Forecast (XGBRegressor)"
   ]
  },
  {
   "cell_type": "markdown",
   "id": "d068099e-ff52-4fe5-94e1-ce8eb01b8ba9",
   "metadata": {},
   "source": [
    "https://towardsdatascience.com/build-complex-time-series-regression-pipelines-with-sktime-910bc25c96b6\n",
    "\n",
    "https://www.sktime.org/en/stable/examples/forecasting/01c_forecasting_hierarchical_global.html\n",
    "\n",
    "https://towardsdatascience.com/why-start-using-sktime-for-forecasting-8d6881c0a518"
   ]
  },
  {
   "cell_type": "code",
   "execution_count": null,
   "id": "aebda4bf-95ef-4949-b855-6dff67a0d23b",
   "metadata": {},
   "outputs": [],
   "source": [
    "from sktime.forecasting.base import ForecastingHorizon\n",
    "from sktime.forecasting.model_selection import temporal_train_test_split\n",
    "from sktime.utils.plotting import plot_series\n",
    "from sktime.transformations.series.boxcox import BoxCoxTransformer, LogTransformer\n",
    "\n",
    "from xgboost import XGBRegressor \n",
    "from sktime.forecasting.model_selection import ForecastingGridSearchCV, SlidingWindowSplitter, ExpandingWindowSplitter\n",
    "from sktime.forecasting.compose import make_reduction, TransformedTargetForecaster\n",
    "from sktime.forecasting.model_evaluation import evaluate\n",
    "\n",
    "from sktime.performance_metrics.forecasting import MeanAbsoluteError,MeanAbsolutePercentageError,MeanSquaredError,MeanSquaredPercentageError, MeanSquaredScaledError"
   ]
  },
  {
   "cell_type": "markdown",
   "id": "7bd3c4ef-5536-4ad1-a01a-cdbbb3332a83",
   "metadata": {},
   "source": [
    "### Split"
   ]
  },
  {
   "cell_type": "code",
   "execution_count": null,
   "id": "66b418d5-203b-48f7-a2c6-d880bd4b30ba",
   "metadata": {},
   "outputs": [],
   "source": [
    "y_train, y_test, X_train, X_test = temporal_train_test_split(y_trans, X_trans,test_size=24)\n",
    "\n",
    "plot_series(y_train, y_test, labels=[\"y_train\", \"y_test\"])"
   ]
  },
  {
   "cell_type": "markdown",
   "id": "e184ec47-30ab-4e0c-8f22-f9662e297d7d",
   "metadata": {},
   "source": [
    "### Pick estimator"
   ]
  },
  {
   "cell_type": "code",
   "execution_count": null,
   "id": "ed4b96b6-a80e-4a87-8d12-d7d1fbee7dfd",
   "metadata": {},
   "outputs": [],
   "source": [
    "estimator = XGBRegressor(objective='reg:squarederror', random_state=42,missing=np.nan)"
   ]
  },
  {
   "cell_type": "markdown",
   "id": "ab8dc98f-c75e-4750-94c1-2d619759a494",
   "metadata": {
    "tags": []
   },
   "source": [
    "### Simple"
   ]
  },
  {
   "cell_type": "markdown",
   "id": "2fe9127e-67d7-4cc4-9695-cc1efb5b34af",
   "metadata": {},
   "source": [
    "#### forecast normal data"
   ]
  },
  {
   "cell_type": "code",
   "execution_count": null,
   "id": "9312a50f-df96-4db2-b046-a12341716d08",
   "metadata": {},
   "outputs": [],
   "source": [
    "forecaster =  make_reduction(estimator, window_length=8, strategy=\"recursive\")\n",
    "\n",
    "forecaster.fit(y=y_train, X=X_train)\n",
    "y_pred = forecaster.predict(X=X_test, fh=list(range(1,24+1)))"
   ]
  },
  {
   "cell_type": "markdown",
   "id": "c772adeb-2697-4192-8987-3e7307994e31",
   "metadata": {},
   "source": [
    "#### forecast skewed data "
   ]
  },
  {
   "cell_type": "code",
   "execution_count": null,
   "id": "a99ef846-401d-4b03-877b-be6effb37963",
   "metadata": {},
   "outputs": [],
   "source": [
    "forecaster = TransformedTargetForecaster(\n",
    "    [\n",
    "        (\"transformer\", BoxCoxTransformer(method='mle')),\n",
    "        (\"forecast\", make_reduction(estimator, window_length=8, strategy=\"recursive\")),\n",
    "    ]\n",
    ")\n",
    "\n",
    "forecaster.fit(y=y_train, X=X_train)\n",
    "y_pred = forecaster.predict(X=X_test, fh=list(range(1,24+1)))"
   ]
  },
  {
   "cell_type": "markdown",
   "id": "1b302078-8c19-4f71-9d23-bc9e0ddae926",
   "metadata": {},
   "source": [
    "### CV"
   ]
  },
  {
   "cell_type": "code",
   "execution_count": null,
   "id": "a0a257b6-28d9-4a69-8c8f-1d16929fe90b",
   "metadata": {},
   "outputs": [],
   "source": [
    "forecaster = TransformedTargetForecaster(\n",
    "    [\n",
    "        (\"transformer\", BoxCoxTransformer(method='mle')),\n",
    "        (\"forecast\", make_reduction(estimator, window_length=8, strategy=\"recursive\")),\n",
    "    ]\n",
    ")\n",
    "\n",
    "cv = ExpandingWindowSplitter(initial_window=30*24, fh=list(range(1,24+1)), step_length=8*24)\n",
    "\n",
    "train_windows, test_windows = get_windows(y_train, cv)\n",
    "plot_windows(y_train, train_windows, test_windows)"
   ]
  },
  {
   "cell_type": "code",
   "execution_count": null,
   "id": "718dac7f-4067-4b53-bf2a-872e2825dd51",
   "metadata": {},
   "outputs": [],
   "source": [
    "results = evaluate(forecaster=forecaster, y=y_train, X=X_train, cv=cv, strategy=\"refit\", scoring= MeanSquaredError())"
   ]
  },
  {
   "cell_type": "markdown",
   "id": "874d2475-2155-4651-b4e5-767a52182362",
   "metadata": {},
   "source": [
    "### GridSearchCV"
   ]
  },
  {
   "cell_type": "code",
   "execution_count": null,
   "id": "e98b40bd-a43d-46ba-9df9-05e7d51f9e70",
   "metadata": {},
   "outputs": [],
   "source": [
    "param_grid = {\"strategy\" : [\"last\", \"mean\", \"drift\"]}\n",
    "\n",
    "gscv = ForecastingGridSearchCV(\n",
    "    forecaster=forecaster,\n",
    "    param_grid=param_grid,\n",
    "    cv=cv)\n",
    "\n",
    "gscv.fit(y=y_test, X=X_test)\n",
    "\n",
    "y_pred = gscv.predict(X=X_test, fh=list(range(1,24+1)))"
   ]
  },
  {
   "cell_type": "markdown",
   "id": "e4cfeec1-b7d2-4931-b79e-cc8c84c8f835",
   "metadata": {},
   "source": [
    "### Hyperopt + MLFlow  \n",
    "\n",
    "https://bradleyboehmke.github.io/xgboost_databricks_tuning/index.html#slide22  \n",
    "\n",
    "https://docs.databricks.com/_static/notebooks/hyperopt-spark-mlflow.html  \n",
    "\n",
    "https://www.databricks.com/blog/2021/04/15/how-not-to-tune-your-model-with-hyperopt.html  "
   ]
  },
  {
   "cell_type": "code",
   "execution_count": null,
   "id": "d27d3761-4657-431f-b99c-538fe4402b9a",
   "metadata": {},
   "outputs": [],
   "source": [
    "from hyperopt import tpe, hp, fmin, STATUS_OK,SparkTrials, space_eval\n",
    "from hyperopt.pyll import scope\n",
    "import mlflow\n",
    "from sktime.utils import mlflow_sktime\n",
    "from warnings import simplefilter\n",
    "\n",
    "import xgboost as xgb\n",
    "xgb.set_config(verbosity=0)"
   ]
  },
  {
   "cell_type": "markdown",
   "id": "c440a038-0016-40e4-a12e-5a6f3391e3d4",
   "metadata": {},
   "source": [
    "#### set hyperopt objective function"
   ]
  },
  {
   "cell_type": "code",
   "execution_count": null,
   "id": "35769d00-4d83-4d80-9ffd-b77d5776a69d",
   "metadata": {},
   "outputs": [],
   "source": [
    "def objective(params):\n",
    "\n",
    "    simplefilter(\"ignore\", category=UserWarning)\n",
    "\n",
    "    estimator = XGBRegressor(objective='reg:squarederror', random_state=42,missing=np.nan)\n",
    "\n",
    "    forecaster = TransformedTargetForecaster(\n",
    "        [\n",
    "            (\"transformer\", BoxCoxTransformer(method='mle')),\n",
    "            (\"forecast\", make_reduction(estimator, window_length=8, strategy=\"recursive\")),\n",
    "        ]\n",
    "    ).set_params(**params)\n",
    "\n",
    "    cv = ExpandingWindowSplitter(initial_window=30*24, fh=list(range(1,24+1)), step_length=8*24)\n",
    "    cv_results = evaluate(forecaster=forecaster, y=y_train, X=X_train, cv=cv, strategy=\"refit\", scoring= MeanSquaredError())\n",
    "    mse = cv_results.iloc[:,0].mean()\n",
    "\n",
    "    mlflow.log_param(\"hyper-parameters\", params)\n",
    "    mlflow.log_param(\"features\", X_train.columns)\n",
    "    mlflow.log_metric(\"rmse\", mse)\n",
    "    mlflow.sklearn.log_model(forecaster.fit(y=y_train, X=X_train), \"model\")\n",
    "    modelpath = \"micro_{}_{}\".format(mod,valdate)\n",
    "    mlflow_sktime.save_model( sktime_model=forecaster,path=modelpath) \n",
    "    return {'loss': mse, 'params': params, 'status': STATUS_OK}"
   ]
  },
  {
   "cell_type": "markdown",
   "id": "5f58d8f1-d63f-4aaa-a9b3-697041ae5385",
   "metadata": {},
   "source": [
    "#### set hypreopt search space"
   ]
  },
  {
   "cell_type": "code",
   "execution_count": null,
   "id": "5a802b45-f38c-4c39-978d-b547029075a0",
   "metadata": {},
   "outputs": [],
   "source": [
    "space = {\n",
    "        'transformer__method': hp.choice('transformer__method',['mle']),\n",
    "         'forecast__window_length':scope.int(hp.quniform('forecast__window_length', 5, 10, q=1)),\n",
    "        'forecast__estimator__nthread':hp.choice('forecast__estimator__nthread',[4]), #when use hyperthread, xgboost may become slower\n",
    "        'forecast__estimator__objective':hp.choice('forecast__estimator__objective',['reg:squarederror']),\n",
    "        'forecast__estimator__learning_rate':hp.choice('forecast__estimator__learning_rate', [.03, 0.05, .07]), #so called `eta` value\n",
    "        'forecast__estimator__max_depth':hp.choice('forecast__estimator__max_depth', [5, 6, 7]),\n",
    "        'forecast__estimator__min_child_weight':hp.choice('forecast__estimator__min_child_weight', [4]),\n",
    "        'forecast__estimator__silent':hp.choice( 'forecast__estimator__silent', [1]),\n",
    "        'forecast__estimator__subsample':hp.choice('forecast__estimator__subsample', [0.7]),\n",
    "        'forecast__estimator__colsample_bytree':hp.choice( 'forecast__estimator__colsample_bytree', [0.7]),\n",
    "        'forecast__estimator__n_estimators':hp.choice('forecast__estimator__n_estimators', [500])\n",
    "            }"
   ]
  },
  {
   "cell_type": "code",
   "execution_count": null,
   "id": "ff810a59-bb28-4d22-bdab-380ea3ac38bd",
   "metadata": {},
   "outputs": [],
   "source": [
    "#best_params = fmin(fn = objective, space = space, algo = tpe.suggest, max_evals = 10, rstate=np.random.RandomState(123),\n",
    "      #trials=spark_trials)     \n",
    "\n",
    "\n",
    "#trials = SparkTrials(parallelism=4)\n",
    "with mlflow.start_run(run_name='initial_search') as run:\n",
    "    best_params = fmin(fn = objective, space = space, algo = tpe.suggest, max_evals = 10, rstate=np.random.RandomState(123),\n",
    "      #trials=spark_trials)"
   ]
  },
  {
   "cell_type": "code",
   "execution_count": null,
   "id": "51c534b6-a8a9-4c76-8b7a-e0cefbb76878",
   "metadata": {},
   "outputs": [],
   "source": [
    "best_params = space_eval(space, best_params)\n",
    "\n",
    "forecaster = forecaster.set_params(**best_params)\n",
    "forecaster.fit(y=y_train, X=X_train)\n",
    "y_pred = forecaster.predict(X=X_test, fh=list(range(1,24+1)))"
   ]
  },
  {
   "cell_type": "markdown",
   "id": "306ba736-2598-40b3-950c-f3b5a93bb2fb",
   "metadata": {},
   "source": [
    "# Plots"
   ]
  },
  {
   "cell_type": "code",
   "execution_count": null,
   "id": "8dcb6bcd-4cdd-40f0-b4e3-498d9d595908",
   "metadata": {},
   "outputs": [],
   "source": [
    "avg = copy.deepcopy(y_train)\n",
    "avg['dow'] = avg.index.dayofweek\n",
    "avg['hour'] = avg.index.hour\n",
    "avg = avg.groupby(['dow','hour']).median()\n",
    "avg = avg.loc[zip(y_test.index.dayofweek,y_test.index.hour)]\n",
    "avg.index = y_test.index\n",
    "\n",
    "rmse = MeanSquaredError(square_root=True)\n",
    "rmse_pred = rmse(y_test, y_pred)\n",
    "rmse_avg = rmse(y_test, avg)\n",
    "\n",
    "plot_series( y_test, y_pred,avg, labels=[ \"y_test\", \"y_pred\",\"avg\"], title='RMSE: '+str(rmse_pred), x_label='Date', y_label='y');\n",
    "\n",
    "# Evaluate\n",
    "print('RMSE: %.2f' % rmse_pred)\n",
    "print('RMSE: %.2f' % rmse_avg)"
   ]
  },
  {
   "cell_type": "markdown",
   "id": "f3e91ea3-d8a9-4cb7-880f-9805c5860780",
   "metadata": {},
   "source": [
    "# Utility functions"
   ]
  },
  {
   "cell_type": "markdown",
   "id": "7b2e2f6e-947a-4040-af91-94221edf5fb8",
   "metadata": {},
   "source": [
    "## plot train / test windows for CV"
   ]
  },
  {
   "cell_type": "code",
   "execution_count": null,
   "id": "c1d3c037-2cae-4e38-b064-ea9cb2ec8c1a",
   "metadata": {},
   "outputs": [],
   "source": [
    "from warnings import simplefilter\n",
    "from matplotlib.ticker import MaxNLocator\n",
    "\n",
    "def plot_windows(y, train_windows, test_windows, title=\"\"):\n",
    "    \"\"\"Visualize training and test windows\"\"\"\n",
    "\n",
    "    simplefilter(\"ignore\", category=UserWarning)\n",
    "\n",
    "    def get_y(length, split):\n",
    "        # Create a constant vector based on the split for y-axis.\"\"\"\n",
    "        return np.ones(length) * split\n",
    "\n",
    "    n_splits = len(train_windows)\n",
    "    n_timepoints = len(y)\n",
    "    len_test = len(test_windows[0])\n",
    "\n",
    "    train_color, test_color = sns.color_palette(\"colorblind\")[:2]\n",
    "\n",
    "    fig, ax = plt.subplots(figsize=plt.figaspect(0.3))\n",
    "\n",
    "    for i in range(n_splits):\n",
    "        train = train_windows[i]\n",
    "        test = test_windows[i]\n",
    "\n",
    "        ax.plot(\n",
    "            np.arange(n_timepoints), get_y(n_timepoints, i), marker=\"o\", c=\"lightgray\"\n",
    "        )\n",
    "        ax.plot(\n",
    "            train,\n",
    "            get_y(len(train), i),\n",
    "            marker=\"o\",\n",
    "            c=train_color,\n",
    "            label=\"Window\",\n",
    "        )\n",
    "        ax.plot(\n",
    "            test,\n",
    "            get_y(len_test, i),\n",
    "            marker=\"o\",\n",
    "            c=test_color,\n",
    "            label=\"Forecasting horizon\",\n",
    "        )\n",
    "    ax.invert_yaxis()\n",
    "    ax.yaxis.set_major_locator(MaxNLocator(integer=True))\n",
    "    ax.set(\n",
    "        title=title,\n",
    "        ylabel=\"Window number\",\n",
    "        xlabel=\"Time\",\n",
    "        xticklabels=y.index,\n",
    "    )\n",
    "    # remove duplicate labels/handles\n",
    "    handles, labels = [(leg[:2]) for leg in ax.get_legend_handles_labels()]\n",
    "    ax.legend(handles, labels);\n",
    "    \n",
    "def get_windows(y, cv):\n",
    "    \"\"\"Generate windows\"\"\"\n",
    "    train_windows = []\n",
    "    test_windows = []\n",
    "    for i, (train, test) in enumerate(cv.split(y)):\n",
    "        train_windows.append(train)\n",
    "        test_windows.append(test)\n",
    "    return train_windows, test_windows"
   ]
  }
 ],
 "metadata": {
  "kernelspec": {
   "display_name": "Python [conda env:perso]",
   "language": "python",
   "name": "conda-env-perso-py"
  },
  "language_info": {
   "codemirror_mode": {
    "name": "ipython",
    "version": 3
   },
   "file_extension": ".py",
   "mimetype": "text/x-python",
   "name": "python",
   "nbconvert_exporter": "python",
   "pygments_lexer": "ipython3",
   "version": "3.9.13"
  }
 },
 "nbformat": 4,
 "nbformat_minor": 5
}
